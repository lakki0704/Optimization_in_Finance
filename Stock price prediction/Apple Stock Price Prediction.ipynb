{
 "cells": [
  {
   "cell_type": "markdown",
   "id": "4b8411dc",
   "metadata": {},
   "source": [
    "# Import the libraries and read the data\n",
    "# First things first: import all the necessary libraries which are required to implement this strategy."
   ]
  },
  {
   "cell_type": "code",
   "execution_count": 1,
   "id": "5fd29093",
   "metadata": {},
   "outputs": [
    {
     "name": "stderr",
     "output_type": "stream",
     "text": [
      "/opt/anaconda3/lib/python3.8/site-packages/fix_yahoo_finance/__init__.py:0: DeprecationWarning: \n",
      "\n",
      "*** `fix_yahoo_finance` was renamed to `yfinance`. ***\n",
      "Please install and use `yfinance` directly using `pip install yfinance -U`\n",
      "\n",
      "More information: https://github.com/ranaroussi/yfinance\n",
      "\n"
     ]
    }
   ],
   "source": [
    "# We'll be using Sklearn library for this task..\n",
    "from sklearn.linear_model import LinearRegression \n",
    "# pandas and numpy are used for data manipulation \n",
    "import pandas as pd \n",
    "import numpy as np \n",
    "# matplotlib and seaborn are used for plotting graphs \n",
    "import matplotlib.pyplot as plt \n",
    "import seaborn \n",
    "# fix_yahoo_finance is used to fetch data \n",
    "import fix_yahoo_finance as yf"
   ]
  },
  {
   "cell_type": "markdown",
   "id": "abde9598",
   "metadata": {},
   "source": [
    "# Then, we read the past 13 years of daily AAPL price data and store it in Dataframe. We remove the columns which are not relevant and drop NaN values using dropna() function. Then, we plot the AAPL close price."
   ]
  },
  {
   "cell_type": "code",
   "execution_count": 2,
   "id": "8a58b7a4",
   "metadata": {},
   "outputs": [
    {
     "name": "stdout",
     "output_type": "stream",
     "text": [
      "[*********************100%***********************]  1 of 1 completed\n"
     ]
    },
    {
     "data": {
      "image/png": "[encoded data removed]",
      "text/plain": [
       "<Figure size 720x360 with 1 Axes>"
      ]
     },
     "metadata": {
      "needs_background": "light"
     },
     "output_type": "display_data"
    }
   ],
   "source": [
    "# Read data \n",
    "Df = yf.download('AAPL','2008-01-01','2020-12-31')\n",
    "# Only keep close columns \n",
    "Df=Df[['Close']] \n",
    "# Drop rows with missing values \n",
    "Df= Df.dropna() \n",
    "# Plot the closing price of GLD \n",
    "Df.Close.plot(figsize=(10,5)) \n",
    "plt.ylabel(\"AAPL Prices\")\n",
    "plt.show()"
   ]
  },
  {
   "cell_type": "markdown",
   "id": "9463aa1b",
   "metadata": {},
   "source": [
    "# Define explanatory variables\n",
    "# An explanatory variable is a variable that is manipulated to determine the value of the AAPL price the next day. Simply, they are the features which we want to use to predict the AAPL price. The explanatory variables in this strategy are the moving averages for past 3 days and 9 days. We drop the NaN values using dropna() function and store the feature variables in X.\n",
    "\n",
    "# However, you can add more variables to X which you think are useful to predict the prices of the AAPL. These variables can be technical indicators\n",
    "\n"
   ]
  },
  {
   "cell_type": "code",
   "execution_count": 3,
   "id": "e48ffdb1",
   "metadata": {},
   "outputs": [
    {
     "data": {
      "text/html": [
       "<div>\n",
       "<style scoped>\n",
       "    .dataframe tbody tr th:only-of-type {\n",
       "        vertical-align: middle;\n",
       "    }\n",
       "\n",
       "    .dataframe tbody tr th {\n",
       "        vertical-align: top;\n",
       "    }\n",
       "\n",
       "    .dataframe thead th {\n",
       "        text-align: right;\n",
       "    }\n",
       "</style>\n",
       "<table border=\"1\" class=\"dataframe\">\n",
       "  <thead>\n",
       "    <tr style=\"text-align: right;\">\n",
       "      <th></th>\n",
       "      <th>S_3</th>\n",
       "      <th>S_9</th>\n",
       "    </tr>\n",
       "    <tr>\n",
       "      <th>Date</th>\n",
       "      <th></th>\n",
       "      <th></th>\n",
       "    </tr>\n",
       "  </thead>\n",
       "  <tbody>\n",
       "    <tr>\n",
       "      <th>2008-01-14</th>\n",
       "      <td>6.310833</td>\n",
       "      <td>6.535317</td>\n",
       "    </tr>\n",
       "    <tr>\n",
       "      <th>2008-01-15</th>\n",
       "      <td>6.303452</td>\n",
       "      <td>6.458730</td>\n",
       "    </tr>\n",
       "    <tr>\n",
       "      <th>2008-01-16</th>\n",
       "      <td>6.196548</td>\n",
       "      <td>6.356349</td>\n",
       "    </tr>\n",
       "    <tr>\n",
       "      <th>2008-01-17</th>\n",
       "      <td>6.041191</td>\n",
       "      <td>6.216310</td>\n",
       "    </tr>\n",
       "    <tr>\n",
       "      <th>2008-01-18</th>\n",
       "      <td>5.828214</td>\n",
       "      <td>6.140278</td>\n",
       "    </tr>\n",
       "  </tbody>\n",
       "</table>\n",
       "</div>"
      ],
      "text/plain": [
       "                 S_3       S_9\n",
       "Date                          \n",
       "2008-01-14  6.310833  6.535317\n",
       "2008-01-15  6.303452  6.458730\n",
       "2008-01-16  6.196548  6.356349\n",
       "2008-01-17  6.041191  6.216310\n",
       "2008-01-18  5.828214  6.140278"
      ]
     },
     "execution_count": 3,
     "metadata": {},
     "output_type": "execute_result"
    }
   ],
   "source": [
    "Df['S_3'] = Df['Close'].shift(1).rolling(window=3).mean() \n",
    "Df['S_9']= Df['Close'].shift(1).rolling(window=9).mean() \n",
    "Df= Df.dropna() \n",
    "X = Df[['S_3','S_9']] \n",
    "X.head()"
   ]
  },
  {
   "cell_type": "markdown",
   "id": "de2564cd",
   "metadata": {},
   "source": [
    "# Define dependent variable\n",
    "# Similarly, the dependent variable depends on the values of the explanatory variables. Simply put, it is the AAPL price which we are trying to predict. We store the AAPL price in y.\n",
    "\n"
   ]
  },
  {
   "cell_type": "code",
   "execution_count": 4,
   "id": "a5f28661",
   "metadata": {},
   "outputs": [
    {
     "data": {
      "text/plain": [
       "Date\n",
       "2008-01-14    6.385000\n",
       "2008-01-15    6.037143\n",
       "2008-01-16    5.701429\n",
       "2008-01-17    5.746071\n",
       "2008-01-18    5.762857\n",
       "Name: Close, dtype: float64"
      ]
     },
     "execution_count": 4,
     "metadata": {},
     "output_type": "execute_result"
    }
   ],
   "source": [
    "y = Df['Close']\n",
    "y.head()"
   ]
  },
  {
   "cell_type": "markdown",
   "id": "59967990",
   "metadata": {},
   "source": [
    "# Split the data into train and test dataset\n",
    "# In this step, we split the predictors and output data into train and test data. The training data is used to create the linear regression model, by pairing the input with expected output. The test data is used to estimate how well the model has been trained.\n",
    "\n",
    "# First 80% of the data is used for training and remaining data for testing\n",
    "# X_train & y_train are training dataset\n",
    "# X_test & y_test are test dataset"
   ]
  },
  {
   "cell_type": "code",
   "execution_count": 5,
   "id": "03ee82c2",
   "metadata": {},
   "outputs": [],
   "source": [
    "\n",
    "t=.8 \n",
    "t = int(t*len(Df)) \n",
    "# Train dataset \n",
    "X_train = X[:t] \n",
    "y_train = y[:t]  \n",
    "# Test dataset \n",
    "X_test = X[t:] \n",
    "y_test = y[t:]"
   ]
  },
  {
   "cell_type": "markdown",
   "id": "33c878a7",
   "metadata": {},
   "source": [
    "# Create a linear regression model\n",
    "# We will now create a linear regression model. But, what is linear regression?\n",
    "\n",
    "# If we try to capture a mathematical relationship between ‘x’ and ‘y’ variables that “best” explains the observed values of ‘y’ in terms of observed values of ‘x’ by fitting a line through a scatter plots then such an equation between x and y is called linear regression analysis.\n",
    "\n",
    "# Y = m1 * X1 + m2 * X2 + C AAPL price = m1 * 3 days moving average + m2 * 15 days moving average + c\n",
    "# Then we use the fit method to fit the independent and dependent variables (x’s and y’s) to generate coefficient and constant for regression."
   ]
  },
  {
   "cell_type": "code",
   "execution_count": 6,
   "id": "a8868c18",
   "metadata": {},
   "outputs": [],
   "source": [
    "linear = LinearRegression().fit(X_train,y_train)"
   ]
  },
  {
   "cell_type": "markdown",
   "id": "7e7c441b",
   "metadata": {},
   "source": [
    "# Predicting the AAPL prices\n",
    "# Now, it’s time to check if the model works in the test dataset. We predict the AAPL prices using the linear model created using the train dataset. The predict method finds the AAPL price (y) for the given explanatory variable X."
   ]
  },
  {
   "cell_type": "code",
   "execution_count": 7,
   "id": "ccaab5f2",
   "metadata": {},
   "outputs": [
    {
     "data": {
      "image/png": "[encoded data removed]",
      "text/plain": [
       "<Figure size 720x360 with 1 Axes>"
      ]
     },
     "metadata": {
      "needs_background": "light"
     },
     "output_type": "display_data"
    }
   ],
   "source": [
    "predicted_price = linear.predict(X_test)  \n",
    "predicted_price = pd.DataFrame(predicted_price,index=y_test.index,columns = ['price'])  \n",
    "predicted_price.plot(figsize=(10,5))  \n",
    "y_test.plot()  \n",
    "plt.legend(['predicted_price','actual_price'])  \n",
    "plt.ylabel(\"AAPL Price\")  \n",
    "plt.show()"
   ]
  },
  {
   "cell_type": "markdown",
   "id": "08fe0cc8",
   "metadata": {},
   "source": [
    "# Let’s check our accuracy\n",
    "# Now, let’s compute the goodness of the fit using the score() function."
   ]
  },
  {
   "cell_type": "code",
   "execution_count": 10,
   "id": "e42e70e1",
   "metadata": {},
   "outputs": [
    {
     "data": {
      "text/plain": [
       "99.42"
      ]
     },
     "execution_count": 10,
     "metadata": {},
     "output_type": "execute_result"
    }
   ],
   "source": [
    "r2_score = linear.score(X[t:],y[t:])*100\n",
    "float(\"{0:.2f}\".format(r2_score))"
   ]
  },
  {
   "cell_type": "markdown",
   "id": "f7524384",
   "metadata": {},
   "source": [
    "# As it can be seen, the R-squared of the model is 99.42%. R-squared is always between 0 and 100%. A score close to 100% indicates that the model explains the AAPL prices well."
   ]
  },
  {
   "cell_type": "code",
   "execution_count": null,
   "id": "f037f425",
   "metadata": {},
   "outputs": [],
   "source": []
  }
 ],
 "metadata": {
  "kernelspec": {
   "display_name": "Python 3",
   "language": "python",
   "name": "python3"
  },
  "language_info": {
   "codemirror_mode": {
    "name": "ipython",
    "version": 3
   },
   "file_extension": ".py",
   "mimetype": "text/x-python",
   "name": "python",
   "nbconvert_exporter": "python",
   "pygments_lexer": "ipython3",
   "version": "3.9.1"
  }
 },
 "nbformat": 4,
 "nbformat_minor": 5
}
